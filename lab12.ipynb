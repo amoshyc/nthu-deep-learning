{
 "cells": [
  {
   "cell_type": "markdown",
   "metadata": {},
   "source": [
    "# Lab 12\n",
    "\n",
    "107062566 黃鈺程\n",
    "\n",
    "\n",
    "## Requirement\n",
    "\n",
    "latest tensorflow, tqdm, pillow, matplotlib\n",
    "\n",
    "I use eager execution as latest tensorflow is necessary."
   ]
  },
  {
   "cell_type": "code",
   "execution_count": 1,
   "metadata": {},
   "outputs": [],
   "source": [
    "import json\n",
    "from pathlib import Path\n",
    "\n",
    "import numpy as np\n",
    "import tensorflow as tf\n",
    "from PIL import Image\n",
    "from tqdm import tqdm\n",
    "\n",
    "tfe = tf.contrib.eager\n",
    "tf.enable_eager_execution()"
   ]
  },
  {
   "cell_type": "markdown",
   "metadata": {},
   "source": [
    "## 1. Prepare CIFAR 10\n",
    "\n",
    "Samples from `*.bin` is extracted and saved as images on disks.\n",
    "And the labels, path to image are store in a json file.\n",
    "\n",
    "```\n",
    "data/\n",
    "    train/\n",
    "        000000.jpg\n",
    "        000001.jpg\n",
    "        ...\n",
    "        ann.json\n",
    "    valid/\n",
    "        000000.jpg\n",
    "        000001.jpg\n",
    "        ...\n",
    "        ann.json\n",
    "```\n",
    "\n",
    "From my experiences, I believe this this the best practice except you can load all data in memory."
   ]
  },
  {
   "cell_type": "code",
   "execution_count": 2,
   "metadata": {},
   "outputs": [],
   "source": [
    "def prepare_cifar(src_dir, dst_dir, n_train=50_000):\n",
    "    src_dir = Path(src_dir)\n",
    "    bin_paths = sorted(list(src_dir.glob('*.bin')))\n",
    "    dst_dir = Path(dst_dir)\n",
    "    train_dir = dst_dir / 'train'\n",
    "    valid_dir = dst_dir / 'valid'\n",
    "    for dir_ in [train_dir, valid_dir]:\n",
    "        dir_.mkdir(exist_ok=True, parents=True)\n",
    "\n",
    "    train_anns = []\n",
    "    valid_anns = []\n",
    "\n",
    "    def process_img_lbl(img, lbl):\n",
    "        if len(train_anns) >= n_train:\n",
    "            img_path = valid_dir / f'{len(valid_anns):06d}.jpg'\n",
    "            img_path = img_path.resolve().absolute()\n",
    "            Image.fromarray(img).save(img_path, quality=100)\n",
    "            valid_anns.append({'img_path': str(img_path), 'label': int(lbl)})\n",
    "        else:\n",
    "            img_path = train_dir / f'{len(train_anns):06d}.jpg'\n",
    "            img_path = img_path.resolve().absolute()\n",
    "            Image.fromarray(img).save(img_path, quality=100)\n",
    "            train_anns.append({'img_path': str(img_path), 'label': int(lbl)})\n",
    "\n",
    "    for bin_path in tqdm(bin_paths, desc='Prepare'):\n",
    "        data = np.fromfile(str(bin_path), dtype=np.uint8)\n",
    "        data = data.reshape(10_000, 3073)\n",
    "        lbls = data[:, 0]\n",
    "        imgs = data[:, 1:].reshape(-1, 3, 32, 32)\n",
    "        imgs = imgs.transpose(0, 2, 3, 1)\n",
    "        for img, lbl in zip(imgs, lbls):\n",
    "            process_img_lbl(img, lbl)\n",
    "\n",
    "    with (train_dir / 'ann.json').open('w') as f:\n",
    "        json.dump(train_anns, f, indent=2, ensure_ascii=False)\n",
    "    with (valid_dir / 'ann.json').open('w') as f:\n",
    "        json.dump(valid_anns, f, indent=2, ensure_ascii=False)"
   ]
  },
  {
   "cell_type": "code",
   "execution_count": 3,
   "metadata": {},
   "outputs": [],
   "source": [
    "## run 1 time\n",
    "# src_dir = './data/cifar-10-batches-bin/'\n",
    "# dst_dir = './data/cifar10/'\n",
    "# prepare_cifar(src_dir, dst_dir)"
   ]
  },
  {
   "cell_type": "markdown",
   "metadata": {},
   "source": [
    "## 2. Load CIFAR 10 as Dataset\n",
    "\n",
    "By utilizing `tf.contrib.py_func` and `tf.data.Dataset.map`, I can load samples multi-threaded."
   ]
  },
  {
   "cell_type": "code",
   "execution_count": 4,
   "metadata": {},
   "outputs": [],
   "source": [
    "def py_func_decorator(output_types=None,\n",
    "                      output_shapes=None,\n",
    "                      stateful=True,\n",
    "                      name=None):\n",
    "    def decorator(func):\n",
    "        def call(*args, **kwargs):\n",
    "            return tf.contrib.framework.py_func(\n",
    "                func=func,\n",
    "                args=args,\n",
    "                kwargs=kwargs,\n",
    "                output_types=output_types,\n",
    "                output_shapes=output_shapes,\n",
    "                stateful=stateful,\n",
    "                name=name)\n",
    "\n",
    "        return call\n",
    "\n",
    "    return decorator\n",
    "\n",
    "def get_item(anns, idx, size):\n",
    "    ann = anns[idx]\n",
    "    img = Image.open(ann['img_path'])\n",
    "    img = img.resize(size)\n",
    "    img = np.float32(img) / 255\n",
    "    lbl = tf.keras.utils.to_categorical(ann['label'], 10)\n",
    "    return img, lbl"
   ]
  },
  {
   "cell_type": "code",
   "execution_count": 5,
   "metadata": {},
   "outputs": [],
   "source": [
    "with open('./data/cifar10/train/ann.json') as f:\n",
    "    train_anns = json.load(f)\n",
    "with open('./data/cifar10/valid/ann.json') as f:\n",
    "    valid_anns = json.load(f)\n",
    "\n",
    "\n",
    "@py_func_decorator(\n",
    "    output_types=(tf.float32, tf.float32), output_shapes=([32, 32, 3], [10]))\n",
    "def load_train(idx):\n",
    "    return get_item(train_anns, idx, [32, 32])\n",
    "\n",
    "\n",
    "@py_func_decorator(\n",
    "    output_types=(tf.float32, tf.float32), output_shapes=([32, 32, 3], [10]))\n",
    "def load_valid(idx):\n",
    "    return get_item(valid_anns, idx, [32, 32])\n",
    "\n",
    "\n",
    "n_train = len(train_anns) // 256 * 256\n",
    "train_set = tf.data.Dataset.range(n_train)\n",
    "train_set = train_set.map(load_train, num_parallel_calls=1)\n",
    "train_set = train_set.prefetch(512).batch(256)\n",
    "\n",
    "n_valid = len(valid_anns) // 256 * 256\n",
    "valid_set = tf.data.Dataset.range(n_valid)\n",
    "valid_set = valid_set.map(load_valid, num_parallel_calls=1)\n",
    "valid_set = valid_set.prefetch(512).batch(256)"
   ]
  },
  {
   "cell_type": "markdown",
   "metadata": {},
   "source": [
    "## Build Model and Training\n",
    "\n",
    "I use `model.train_on_batch` and `model.test_on_batch` to train and evaluation model respectively.\n",
    "Model is a small CNN optimized by `Adam(lr=1e-3)`\n",
    "Keras is more convenient than tensorflow, especially in eager execution mode."
   ]
  },
  {
   "cell_type": "code",
   "execution_count": 6,
   "metadata": {},
   "outputs": [
    {
     "name": "stdout",
     "output_type": "stream",
     "text": [
      "_________________________________________________________________\n",
      "Layer (type)                 Output Shape              Param #   \n",
      "=================================================================\n",
      "conv2d (Conv2D)              (None, 32, 32, 32)        896       \n",
      "_________________________________________________________________\n",
      "activation (Activation)      (None, 32, 32, 32)        0         \n",
      "_________________________________________________________________\n",
      "max_pooling2d (MaxPooling2D) (None, 16, 16, 32)        0         \n",
      "_________________________________________________________________\n",
      "conv2d_1 (Conv2D)            (None, 16, 16, 64)        18496     \n",
      "_________________________________________________________________\n",
      "activation_1 (Activation)    (None, 16, 16, 64)        0         \n",
      "_________________________________________________________________\n",
      "max_pooling2d_1 (MaxPooling2 (None, 8, 8, 64)          0         \n",
      "_________________________________________________________________\n",
      "conv2d_2 (Conv2D)            (None, 8, 8, 128)         73856     \n",
      "_________________________________________________________________\n",
      "activation_2 (Activation)    (None, 8, 8, 128)         0         \n",
      "_________________________________________________________________\n",
      "max_pooling2d_2 (MaxPooling2 (None, 4, 4, 128)         0         \n",
      "_________________________________________________________________\n",
      "flatten (Flatten)            (None, 2048)              0         \n",
      "_________________________________________________________________\n",
      "dense (Dense)                (None, 64)                131136    \n",
      "_________________________________________________________________\n",
      "dense_1 (Dense)              (None, 10)                650       \n",
      "=================================================================\n",
      "Total params: 225,034\n",
      "Trainable params: 225,034\n",
      "Non-trainable params: 0\n",
      "_________________________________________________________________\n"
     ]
    }
   ],
   "source": [
    "model = tf.keras.Sequential([\n",
    "    tf.keras.layers.Conv2D(32, [3, 3], padding='same', input_shape=(32, 32, 3)),\n",
    "    tf.keras.layers.Activation('relu'),\n",
    "    tf.keras.layers.MaxPooling2D([2, 2], strides=2),\n",
    "    tf.keras.layers.Conv2D(64, [3, 3], padding='same'),\n",
    "    tf.keras.layers.Activation('relu'),\n",
    "    tf.keras.layers.MaxPooling2D([2, 2], strides=2),\n",
    "    tf.keras.layers.Conv2D(128, [3, 3], padding='same'),\n",
    "    tf.keras.layers.Activation('relu'),\n",
    "    tf.keras.layers.MaxPooling2D([2, 2], strides=2),\n",
    "    tf.keras.layers.Flatten(),\n",
    "    tf.keras.layers.Dense(64, activation='relu'),\n",
    "    tf.keras.layers.Dense(10, activation='softmax'),\n",
    "])\n",
    "\n",
    "optim = tf.train.AdamOptimizer(learning_rate=1e-3)\n",
    "model.compile(\n",
    "    loss='categorical_crossentropy', optimizer=optim, metrics=['accuracy'])\n",
    "model.summary()"
   ]
  },
  {
   "cell_type": "code",
   "execution_count": 7,
   "metadata": {},
   "outputs": [
    {
     "name": "stdout",
     "output_type": "stream",
     "text": [
      "Epoch 0\n"
     ]
    },
    {
     "name": "stderr",
     "output_type": "stream",
     "text": [
      "  Train: 100%|##########| 49920/49920 [00:13<00:00, 3811.62it/s, loss=1.676, acc=0.391]\n",
      "  Valid: 100%|##########| 9984/9984 [00:02<00:00, 4155.77it/s, loss=1.378, acc=0.518]"
     ]
    },
    {
     "name": "stdout",
     "output_type": "stream",
     "text": [
      "Epoch 1\n"
     ]
    },
    {
     "name": "stderr",
     "output_type": "stream",
     "text": [
      "\n",
      "  Train: 100%|##########| 49920/49920 [00:13<00:00, 3697.24it/s, loss=1.268, acc=0.551]\n",
      "  Valid: 100%|##########| 9984/9984 [00:02<00:00, 3817.58it/s, loss=1.201, acc=0.576]"
     ]
    },
    {
     "name": "stdout",
     "output_type": "stream",
     "text": [
      "Epoch 2\n"
     ]
    },
    {
     "name": "stderr",
     "output_type": "stream",
     "text": [
      "\n",
      "  Train: 100%|##########| 49920/49920 [00:13<00:00, 3695.99it/s, loss=1.102, acc=0.615]\n",
      "  Valid: 100%|##########| 9984/9984 [00:02<00:00, 4007.77it/s, loss=1.068, acc=0.629]"
     ]
    },
    {
     "name": "stdout",
     "output_type": "stream",
     "text": [
      "Epoch 3\n"
     ]
    },
    {
     "name": "stderr",
     "output_type": "stream",
     "text": [
      "\n",
      "  Train: 100%|##########| 49920/49920 [00:13<00:00, 3611.87it/s, loss=0.997, acc=0.655]\n",
      "  Valid: 100%|##########| 9984/9984 [00:02<00:00, 3872.54it/s, loss=1.012, acc=0.648]"
     ]
    },
    {
     "name": "stdout",
     "output_type": "stream",
     "text": [
      "Epoch 4\n"
     ]
    },
    {
     "name": "stderr",
     "output_type": "stream",
     "text": [
      "\n",
      "  Train: 100%|##########| 49920/49920 [00:14<00:00, 3474.66it/s, loss=0.917, acc=0.685]\n",
      "  Valid: 100%|##########| 9984/9984 [00:03<00:00, 3255.71it/s, loss=0.955, acc=0.668]"
     ]
    },
    {
     "name": "stdout",
     "output_type": "stream",
     "text": [
      "Epoch 5\n"
     ]
    },
    {
     "name": "stderr",
     "output_type": "stream",
     "text": [
      "\n",
      "  Train: 100%|##########| 49920/49920 [00:13<00:00, 3707.62it/s, loss=0.851, acc=0.709]\n",
      "  Valid: 100%|##########| 9984/9984 [00:02<00:00, 3759.47it/s, loss=0.909, acc=0.688]"
     ]
    },
    {
     "name": "stdout",
     "output_type": "stream",
     "text": [
      "Epoch 6\n"
     ]
    },
    {
     "name": "stderr",
     "output_type": "stream",
     "text": [
      "\n",
      "  Train: 100%|##########| 49920/49920 [00:13<00:00, 3616.74it/s, loss=0.795, acc=0.728]\n",
      "  Valid: 100%|##########| 9984/9984 [00:02<00:00, 3959.97it/s, loss=0.892, acc=0.692]"
     ]
    },
    {
     "name": "stdout",
     "output_type": "stream",
     "text": [
      "Epoch 7\n"
     ]
    },
    {
     "name": "stderr",
     "output_type": "stream",
     "text": [
      "\n",
      "  Train: 100%|##########| 49920/49920 [00:13<00:00, 3803.16it/s, loss=0.748, acc=0.744]\n",
      "  Valid: 100%|##########| 9984/9984 [00:02<00:00, 3735.07it/s, loss=0.880, acc=0.698]"
     ]
    },
    {
     "name": "stdout",
     "output_type": "stream",
     "text": [
      "Epoch 8\n"
     ]
    },
    {
     "name": "stderr",
     "output_type": "stream",
     "text": [
      "\n",
      "  Train: 100%|##########| 49920/49920 [00:14<00:00, 3561.10it/s, loss=0.711, acc=0.757]\n",
      "  Valid: 100%|##########| 9984/9984 [00:02<00:00, 3740.19it/s, loss=0.848, acc=0.710]"
     ]
    },
    {
     "name": "stdout",
     "output_type": "stream",
     "text": [
      "Epoch 9\n"
     ]
    },
    {
     "name": "stderr",
     "output_type": "stream",
     "text": [
      "\n",
      "  Train: 100%|##########| 49920/49920 [00:14<00:00, 3504.85it/s, loss=0.674, acc=0.770]\n",
      "  Valid: 100%|##########| 9984/9984 [00:02<00:00, 3950.31it/s, loss=0.824, acc=0.717]"
     ]
    },
    {
     "name": "stdout",
     "output_type": "stream",
     "text": [
      "CPU times: user 11min 5s, sys: 21.4 s, total: 11min 26s\n",
      "Wall time: 2min 43s\n"
     ]
    },
    {
     "name": "stderr",
     "output_type": "stream",
     "text": [
      "\n"
     ]
    }
   ],
   "source": [
    "%%time\n",
    "\n",
    "history = []\n",
    "\n",
    "for epoch in range(10):\n",
    "    print('Epoch', epoch, flush=True)\n",
    "    history.append({\n",
    "        'epoch': epoch,\n",
    "        'train_loss': tfe.metrics.Mean(),\n",
    "        'valid_loss': tfe.metrics.Mean(),\n",
    "        'train_acc': tfe.metrics.Mean(),\n",
    "        'valid_acc': tfe.metrics.Mean()\n",
    "    })\n",
    "\n",
    "    pbar = tqdm(total=n_train, desc='  Train', ascii=True)\n",
    "    for img_batch, lbl_batch in train_set:\n",
    "        img_batch, lbl_batch = np.float32(img_batch), np.float32(lbl_batch)\n",
    "        loss, acc = model.train_on_batch(img_batch, lbl_batch)\n",
    "        history[-1]['train_loss'](loss)\n",
    "        history[-1]['train_acc'](acc)\n",
    "        pbar.update(img_batch.shape[0])\n",
    "        pbar.set_postfix({\n",
    "            'loss': f'{history[-1][\"train_loss\"].result():.3f}',\n",
    "            'acc': f'{history[-1][\"train_acc\"].result():.3f}'\n",
    "        })\n",
    "    pbar.close()\n",
    "\n",
    "    metrics = {\n",
    "        'loss': tfe.metrics.Mean(),\n",
    "        'acc': tfe.metrics.Mean(),\n",
    "    }\n",
    "    pbar = tqdm(total=n_valid, desc='  Valid', ascii=True)\n",
    "    for img_batch, lbl_batch in valid_set:\n",
    "        img_batch, lbl_batch = np.float32(img_batch), np.float32(lbl_batch)\n",
    "        loss, acc = model.test_on_batch(img_batch, lbl_batch)\n",
    "        history[-1]['valid_loss'](loss)\n",
    "        history[-1]['valid_acc'](acc)\n",
    "        pbar.update(img_batch.shape[0])\n",
    "        pbar.set_postfix({\n",
    "            'loss': f'{history[-1][\"valid_loss\"].result():.3f}',\n",
    "            'acc': f'{history[-1][\"valid_acc\"].result():.3f}'\n",
    "        })\n",
    "    pbar.close()"
   ]
  },
  {
   "cell_type": "code",
   "execution_count": 8,
   "metadata": {},
   "outputs": [
    {
     "data": {
      "image/png": "[encoded data removed]",
      "text/plain": [
       "<Figure size 1100x400 with 2 Axes>"
      ]
     },
     "metadata": {},
     "output_type": "display_data"
    }
   ],
   "source": [
    "%matplotlib inline\n",
    "import matplotlib.pyplot as plt\n",
    "plt.style.use('seaborn')\n",
    "\n",
    "xs = np.arange(len(history))\n",
    "fig, ax = plt.subplots(1, 2, dpi=100, figsize=(11, 4))\n",
    "ax[0].plot(xs, [float(item['train_loss'].result()) for item in history], '-', label='train_loss')\n",
    "ax[0].plot(xs, [float(item['valid_loss'].result()) for item in history], '-', label='valid_loss')\n",
    "ax[0].legend()\n",
    "ax[0].set_title('Loss')\n",
    "ax[1].plot(xs, [float(item['train_acc'].result()) for item in history], '-', label='train_loss')\n",
    "ax[1].plot(xs, [float(item['valid_acc'].result()) for item in history], '-', label='valid_loss')\n",
    "ax[1].legend()\n",
    "ax[1].set_title('Accuracy')\n",
    "plt.show()"
   ]
  },
  {
   "cell_type": "code",
   "execution_count": null,
   "metadata": {},
   "outputs": [],
   "source": []
  }
 ],
 "metadata": {
  "kernelspec": {
   "display_name": "Python 3",
   "language": "python",
   "name": "python3"
  },
  "language_info": {
   "codemirror_mode": {
    "name": "ipython",
    "version": 3
   },
   "file_extension": ".py",
   "mimetype": "text/x-python",
   "name": "python",
   "nbconvert_exporter": "python",
   "pygments_lexer": "ipython3",
   "version": "3.6.6"
  }
 },
 "nbformat": 4,
 "nbformat_minor": 2
}
