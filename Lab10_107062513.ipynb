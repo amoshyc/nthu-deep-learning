{
 "cells": [
  {
   "cell_type": "markdown",
   "metadata": {},
   "source": [
    "# Assignment"
   ]
  },
  {
   "cell_type": "markdown",
   "metadata": {},
   "source": [
    "##  Learning the XOR"
   ]
  },
  {
   "cell_type": "code",
   "execution_count": 1,
   "metadata": {},
   "outputs": [],
   "source": [
    "import tensorflow as tf\n",
    "import numpy as np\n",
    "\n",
    "tf.reset_default_graph()\n",
    "%matplotlib inline"
   ]
  },
  {
   "cell_type": "code",
   "execution_count": 2,
   "metadata": {},
   "outputs": [],
   "source": [
    "xor_data = np.array([[1, 0],\n",
    "                    [0, 1],\n",
    "                    [1, 1],\n",
    "                    [0, 0]])\n",
    "xor_label = np.array([[1], [1], [0], [0]])"
   ]
  },
  {
   "cell_type": "code",
   "execution_count": 3,
   "metadata": {},
   "outputs": [],
   "source": [
    "def fc_layer(x_input, out_dim, name='fc'):\n",
    "    in_dim = x_input.shape[-1]\n",
    "    with tf.variable_scope(name, reuse=tf.AUTO_REUSE):\n",
    "        weights = tf.get_variable(\"weights\", shape=[in_dim, out_dim])\n",
    "        bias = tf.get_variable(\"bias\", shape=[out_dim])\n",
    "#         out = tf.matmul(x_input, weights) + bias\n",
    "        out = x_input @ weights + bias\n",
    "        return tf.sigmoid(out), weights, bias"
   ]
  },
  {
   "cell_type": "code",
   "execution_count": 11,
   "metadata": {},
   "outputs": [
    {
     "name": "stdout",
     "output_type": "stream",
     "text": [
      "Input layer weights: [[-3.9795322  4.779998   6.129201 ]\n",
      " [ 3.7440898 -4.525801  -6.2416615]]\n",
      "Input layer bias: [-2.2031686  2.5542862 -3.2194376]\n",
      "Hidden weights: [[ 5.3119   ]\n",
      " [-6.5702815]\n",
      " [10.356645 ]]\n",
      "Hidden layer bias: [0.9222059]\n",
      "[[0.98505974]\n",
      " [0.98895663]\n",
      " [0.01108743]\n",
      " [0.01409655]]\n"
     ]
    }
   ],
   "source": [
    "with tf.Graph().as_default() as g:\n",
    "    x_input = tf.placeholder(tf.float32, [None, 2])\n",
    "    y_label = tf.placeholder(tf.float32, [None, 1])\n",
    "    \n",
    "    num_neurons = 3\n",
    "    classes = y_label.shape[-1]\n",
    "    fc, input_weights, input_bias = fc_layer(x_input, num_neurons, name='fc')\n",
    "    out, hidden_weights, hidden_bias = fc_layer(fc, classes, name='logits')\n",
    "    \n",
    "    loss = tf.reduce_mean(-1 * (y_label*tf.log(out) + (1-y_label)*tf.log(1-out)))\n",
    "#     loss = tf.reduce_mean(tf.square(y_label - out))\n",
    "    train_op = tf.train.GradientDescentOptimizer(0.1).minimize(loss)\n",
    "    \n",
    "    var_init_op = tf.global_variables_initializer()\n",
    "    # start building your model and meet the requirements\n",
    "    # from here\n",
    "    \n",
    "with tf.Session(graph=g) as sess:\n",
    "    # start run the seesion and meet the requrements\n",
    "    # from here \n",
    "    sess.run(var_init_op)\n",
    "    cost = []\n",
    "    for i in range(10000):\n",
    "        _, loss_, out_ = sess.run([train_op, loss, out], feed_dict={x_input:xor_data, y_label:xor_label})  \n",
    "        cost.append(loss_)\n",
    "    p_label = sess.run(tf.round(out_))\n",
    "    print('Input layer weights: {}'.format(sess.run(input_weights)))\n",
    "    print('Input layer bias: {}'.format(sess.run(input_bias)))\n",
    "    print('Hidden weights: {}'.format(sess.run(hidden_weights)))\n",
    "    print('Hidden layer bias: {}'.format(sess.run(hidden_bias)))\n",
    "    \n",
    "    print(sess.run(out, feed_dict={x_input:xor_data, y_label:xor_label}))"
   ]
  },
  {
   "cell_type": "code",
   "execution_count": 12,
   "metadata": {},
   "outputs": [
    {
     "data": {
      "image/png": "[encoded data removed]",
      "text/plain": [
       "<Figure size 800x400 with 1 Axes>"
      ]
     },
     "metadata": {},
     "output_type": "display_data"
    }
   ],
   "source": [
    "import matplotlib.pyplot as plt\n",
    "plt.style.use('seaborn')\n",
    "\n",
    "fig, ax = plt.subplots(dpi=100, figsize=(8, 4))\n",
    "ax.plot(range(len(cost)), cost)\n",
    "plt.show()"
   ]
  },
  {
   "cell_type": "code",
   "execution_count": 13,
   "metadata": {},
   "outputs": [
    {
     "name": "stdout",
     "output_type": "stream",
     "text": [
      "Accuracy :1.0\n"
     ]
    }
   ],
   "source": [
    "from sklearn.metrics import accuracy_score\n",
    "acc = accuracy_score(xor_label, p_label)\n",
    "print('Accuracy :{}'.format(acc))"
   ]
  },
  {
   "cell_type": "markdown",
   "metadata": {},
   "source": [
    "## MNIST - Digits classification"
   ]
  },
  {
   "cell_type": "code",
   "execution_count": 1,
   "metadata": {},
   "outputs": [
    {
     "name": "stdout",
     "output_type": "stream",
     "text": [
      "WARNING:tensorflow:From <ipython-input-1-91cf09d71950>:3: read_data_sets (from tensorflow.contrib.learn.python.learn.datasets.mnist) is deprecated and will be removed in a future version.\n",
      "Instructions for updating:\n",
      "Please use alternatives such as official/mnist/dataset.py from tensorflow/models.\n",
      "WARNING:tensorflow:From /Users/jsharp/anaconda/envs/DL_course/lib/python3.5/site-packages/tensorflow/contrib/learn/python/learn/datasets/mnist.py:260: maybe_download (from tensorflow.contrib.learn.python.learn.datasets.base) is deprecated and will be removed in a future version.\n",
      "Instructions for updating:\n",
      "Please write your own downloading logic.\n",
      "WARNING:tensorflow:From /Users/jsharp/anaconda/envs/DL_course/lib/python3.5/site-packages/tensorflow/contrib/learn/python/learn/datasets/mnist.py:262: extract_images (from tensorflow.contrib.learn.python.learn.datasets.mnist) is deprecated and will be removed in a future version.\n",
      "Instructions for updating:\n",
      "Please use tf.data to implement this functionality.\n",
      "Extracting data/mnist/train-images-idx3-ubyte.gz\n",
      "WARNING:tensorflow:From /Users/jsharp/anaconda/envs/DL_course/lib/python3.5/site-packages/tensorflow/contrib/learn/python/learn/datasets/mnist.py:267: extract_labels (from tensorflow.contrib.learn.python.learn.datasets.mnist) is deprecated and will be removed in a future version.\n",
      "Instructions for updating:\n",
      "Please use tf.data to implement this functionality.\n",
      "Extracting data/mnist/train-labels-idx1-ubyte.gz\n",
      "WARNING:tensorflow:From /Users/jsharp/anaconda/envs/DL_course/lib/python3.5/site-packages/tensorflow/contrib/learn/python/learn/datasets/mnist.py:110: dense_to_one_hot (from tensorflow.contrib.learn.python.learn.datasets.mnist) is deprecated and will be removed in a future version.\n",
      "Instructions for updating:\n",
      "Please use tf.one_hot on tensors.\n",
      "Extracting data/mnist/t10k-images-idx3-ubyte.gz\n",
      "Extracting data/mnist/t10k-labels-idx1-ubyte.gz\n",
      "WARNING:tensorflow:From /Users/jsharp/anaconda/envs/DL_course/lib/python3.5/site-packages/tensorflow/contrib/learn/python/learn/datasets/mnist.py:290: DataSet.__init__ (from tensorflow.contrib.learn.python.learn.datasets.mnist) is deprecated and will be removed in a future version.\n",
      "Instructions for updating:\n",
      "Please use alternatives such as official/mnist/dataset.py from tensorflow/models.\n"
     ]
    }
   ],
   "source": [
    "from tensorflow.examples.tutorials.mnist import input_data\n",
    "# load mnist data\n",
    "mnist = input_data.read_data_sets(\"data/mnist\", one_hot=True)"
   ]
  },
  {
   "cell_type": "code",
   "execution_count": 2,
   "metadata": {},
   "outputs": [],
   "source": [
    "train_data = mnist.train.images\n",
    "train_label = mnist.train.labels\n",
    "\n",
    "in_dim = train_data.shape[-1]\n",
    "out_dim = train_label.shape[-1]"
   ]
  },
  {
   "cell_type": "code",
   "execution_count": 13,
   "metadata": {},
   "outputs": [
    {
     "name": "stdout",
     "output_type": "stream",
     "text": [
      "step 1, training acc 0.956\n",
      "step 2, training acc 0.973\n",
      "step 3, training acc 0.983\n",
      "step 4, training acc 0.989\n",
      "step 5, training acc 0.992\n",
      "step 6, training acc 0.994\n",
      "step 7, training acc 0.996\n",
      "step 8, training acc 0.998\n",
      "step 9, training acc 0.998\n",
      "step 10, training acc 0.999\n",
      "test accuracy: 0.98\n"
     ]
    }
   ],
   "source": [
    "with tf.Graph().as_default() as g:\n",
    "    x_input = tf.placeholder(tf.float32, [None, in_dim])\n",
    "    y_label = tf.placeholder(tf.float32, [None, out_dim])\n",
    "    \n",
    "    training_dataset = tf.data.Dataset.from_tensor_slices((train_data, train_label))\n",
    "    training_dataset = training_dataset.batch(100)\n",
    "    training_iterator = training_dataset.make_initializable_iterator()\n",
    "    batch_xs, batch_ys = training_iterator.get_next()\n",
    "    \n",
    "    fc1_weights = tf.get_variable(\"fc1_weights\", shape=[in_dim, 1024])\n",
    "    fc1_bias = tf.get_variable(\"fc1_bias\", shape=[1024])\n",
    "    fc1_out = tf.nn.relu(tf.matmul(x_input, fc1_weights) + fc1_bias)\n",
    "    \n",
    "    fc2_weights = tf.get_variable(\"fc2_weights\", shape=[1024, out_dim])\n",
    "    fc2_bias = tf.get_variable(\"fc2_bias\", shape=[out_dim])\n",
    "    fc2_out = tf.matmul(fc1_out, fc2_weights) + fc2_bias\n",
    "    out = tf.nn.softmax(fc2_out)\n",
    "    \n",
    "    loss = -tf.reduce_sum(y_label * tf.log(out))\n",
    "    \n",
    "    train_op = tf.train.GradientDescentOptimizer(0.01).minimize(loss)\n",
    "    \n",
    "    correct_prediction = tf.equal(tf.argmax(out, 1), tf.argmax(y_label, 1))  \n",
    "    accuracy = tf.reduce_mean(tf.cast(correct_prediction, tf.float32))\n",
    "    \n",
    "    var_init_op = tf.global_variables_initializer()\n",
    "\n",
    "with tf.Session(graph=g) as sess:\n",
    "    sess.run(var_init_op)\n",
    "    for i in range(10):\n",
    "        sess.run(training_iterator.initializer)\n",
    "        try:\n",
    "            while (True):\n",
    "                x_, y_ = sess.run([batch_xs, batch_ys])\n",
    "                _, loss_, out_ = sess.run([train_op, loss, out], feed_dict={x_input:x_, y_label:y_}) \n",
    "        except tf.errors.OutOfRangeError:\n",
    "            pass\n",
    "        \n",
    "        train_accuracy = accuracy.eval(feed_dict={x_input:train_data, y_label:train_label})\n",
    "        print (\"step {}, training acc {:.3f}\".format(i+1, train_accuracy))\n",
    "            \n",
    "    test_accuracy = accuracy.eval(feed_dict={x_input:mnist.test.images, y_label:mnist.test.labels})\n",
    "    print(\"test accuracy: {:.2f}\".format(test_accuracy))\n",
    "    "
   ]
  }
 ],
 "metadata": {
  "kernelspec": {
   "display_name": "Python 3",
   "language": "python",
   "name": "python3"
  },
  "language_info": {
   "codemirror_mode": {
    "name": "ipython",
    "version": 3
   },
   "file_extension": ".py",
   "mimetype": "text/x-python",
   "name": "python",
   "nbconvert_exporter": "python",
   "pygments_lexer": "ipython3",
   "version": "3.6.6"
  }
 },
 "nbformat": 4,
 "nbformat_minor": 2
}
