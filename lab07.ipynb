{
 "cells": [
  {
   "cell_type": "code",
   "execution_count": 1,
   "metadata": {},
   "outputs": [],
   "source": [
    "# 107062566 黃鈺程 CVLab, Delta 722\n",
    "# Dependencies: numpy, pandas, matplotlib, seaborn, sklearn=0.20"
   ]
  },
  {
   "cell_type": "code",
   "execution_count": 2,
   "metadata": {},
   "outputs": [],
   "source": [
    "%matplotlib inline\n",
    "%config InlineBackend.figure_format = 'svg'\n",
    "import numpy as np\n",
    "import pandas as pd\n",
    "\n",
    "from sklearn.model_selection import train_test_split\n",
    "from sklearn.preprocessing import OneHotEncoder\n",
    "from sklearn.impute import SimpleImputer\n",
    "from sklearn.pipeline import Pipeline\n",
    "from sklearn.compose import ColumnTransformer\n",
    "from sklearn.neighbors import KNeighborsClassifier\n",
    "from sklearn.svm import SVC"
   ]
  },
  {
   "cell_type": "code",
   "execution_count": 3,
   "metadata": {},
   "outputs": [],
   "source": [
    "df = pd.read_csv('https://archive.ics.uci.edu/ml/machine-learning-databases/'\n",
    "                 'mushroom/agaricus-lepiota.data', header=None, engine='python')\n",
    "column_name = ['classes','cap-shape', 'cap-surface','cap-color','bruises?','odor',\n",
    "               'gill-attachment','gill-spacing','gill-size','gill-color',\n",
    "               'stalk-shape','stalk-root','stalk-surface-above-ring',\n",
    "               'stalk-surface-below-ring','stalk-color-above-ring',\n",
    "               'stalk-color-below-ring','veil-type','veil-color','ring-number',\n",
    "               'ring-type','spore-print-color','population','habitat']\n",
    "df.columns = column_name"
   ]
  },
  {
   "cell_type": "code",
   "execution_count": 4,
   "metadata": {},
   "outputs": [],
   "source": [
    "X = df.drop(columns=['classes'], axis=1)\n",
    "y = df['classes']\n",
    "xt, xv, yt, yv = train_test_split(X, y, test_size=0.2, random_state=0)"
   ]
  },
  {
   "cell_type": "code",
   "execution_count": 5,
   "metadata": {},
   "outputs": [],
   "source": [
    "transformer = Pipeline(steps=[\n",
    "    ('imputer', SimpleImputer(missing_values='?', strategy='most_frequent')),\n",
    "    ('onehot', OneHotEncoder(handle_unknown='ignore'))])\n",
    "\n",
    "preprocessor = ColumnTransformer(\n",
    "    transformers=[('cat', transformer, df.columns[1:])])"
   ]
  },
  {
   "cell_type": "code",
   "execution_count": 6,
   "metadata": {},
   "outputs": [
    {
     "name": "stdout",
     "output_type": "stream",
     "text": [
      "1.0\n"
     ]
    }
   ],
   "source": [
    "# KNN\n",
    "clf_knn = Pipeline(steps=[\n",
    "    ('preprocess', preprocessor),\n",
    "    ('classifier', KNeighborsClassifier())\n",
    "]).fit(xt, yt)\n",
    "acc = clf_knn.score(xv, yv)\n",
    "print(acc)"
   ]
  },
  {
   "cell_type": "code",
   "execution_count": 7,
   "metadata": {},
   "outputs": [
    {
     "name": "stdout",
     "output_type": "stream",
     "text": [
      "1.0\n"
     ]
    }
   ],
   "source": [
    "# SVC\n",
    "clf_svc = Pipeline(steps=[\n",
    "    ('preprocess', preprocessor),\n",
    "    ('classifier', SVC(gamma='scale'))\n",
    "]).fit(xt, yt)\n",
    "acc = clf_svc.score(xv, yv)\n",
    "print(acc)"
   ]
  },
  {
   "cell_type": "markdown",
   "metadata": {},
   "source": [
    "# Report\n",
    "\n",
    "※ 需要 sklearn 0.20 以上來跑我的程式\n",
    "\n",
    "好險，差點做成了 train, test 資料一起 preprocessing，這樣會造成不嚴謹的程式。\n",
    "所幸有發現，然後改成了稅用 Pipeline 的方式實作，處理 NA 真是麻煩~\n",
    "\n",
    "另外提供助教參考，並不需要使用 LabelEncoder 將資料轉成數值資料。\n",
    "使用 sklearn 0.20 的 SimpleImputer 即可簡單的做預處理~\n",
    "[官方範例](http://scikit-learn.org/stable/auto_examples/compose/plot_column_transformer_mixed_types.html#sphx-glr-auto-examples-compose-plot-column-transformer-mixed-types-py)\n",
    "\n",
    "結果很喜人：\n",
    "1. KNN: 1.0\n",
    "2. SVC: 1.0"
   ]
  },
  {
   "cell_type": "code",
   "execution_count": null,
   "metadata": {},
   "outputs": [],
   "source": []
  }
 ],
 "metadata": {
  "kernelspec": {
   "display_name": "Python 3",
   "language": "python",
   "name": "python3"
  },
  "language_info": {
   "codemirror_mode": {
    "name": "ipython",
    "version": 3
   },
   "file_extension": ".py",
   "mimetype": "text/x-python",
   "name": "python",
   "nbconvert_exporter": "python",
   "pygments_lexer": "ipython3",
   "version": "3.6.6"
  }
 },
 "nbformat": 4,
 "nbformat_minor": 2
}
