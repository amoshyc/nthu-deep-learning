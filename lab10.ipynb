{
 "cells": [
  {
   "cell_type": "code",
   "execution_count": 1,
   "metadata": {},
   "outputs": [],
   "source": [
    "# 107062566 CVLab 黃鈺程\n",
    "# Requirements: numpy, matplotlib, tqdm, tensorflow"
   ]
  },
  {
   "cell_type": "code",
   "execution_count": 2,
   "metadata": {},
   "outputs": [],
   "source": [
    "%matplotlib inline\n",
    "import numpy as np\n",
    "import matplotlib.pyplot as plt\n",
    "plt.style.use('seaborn')\n",
    "from tqdm import tqdm_notebook as tqdm\n",
    "\n",
    "import tensorflow as tf"
   ]
  },
  {
   "cell_type": "code",
   "execution_count": 3,
   "metadata": {},
   "outputs": [],
   "source": [
    "xor_data = np.array([[1, 0],[0, 1], [1, 1], [0, 0]])\n",
    "xor_label = np.array([[1], [1], [0], [0]])"
   ]
  },
  {
   "cell_type": "code",
   "execution_count": 4,
   "metadata": {},
   "outputs": [
    {
     "data": {
      "application/vnd.jupyter.widget-view+json": {
       "model_id": "6f9535a1790346c6b2f8036b4aa8d31b",
       "version_major": 2,
       "version_minor": 0
      },
      "text/plain": [
       "HBox(children=(IntProgress(value=0, max=40000), HTML(value='')))"
      ]
     },
     "metadata": {},
     "output_type": "display_data"
    },
    {
     "name": "stdout",
     "output_type": "stream",
     "text": [
      "\n",
      "W1 :\n",
      "[[-2.7 -3.7]\n",
      " [-2.7 -3.7]]\n",
      "b1 :\n",
      "[4.  1.8]\n",
      "W2 :\n",
      "[[ 5.3]\n",
      " [-5.2]]\n",
      "b2 :\n",
      "[-4.7]\n"
     ]
    },
    {
     "data": {
      "image/png": "[encoded data removed]",
      "text/plain": [
       "<Figure size 800x400 with 1 Axes>"
      ]
     },
     "metadata": {
      "needs_background": "light"
     },
     "output_type": "display_data"
    }
   ],
   "source": [
    "tf.reset_default_graph()\n",
    "\n",
    "with tf.Graph().as_default() as g:\n",
    "    with tf.name_scope('data'):\n",
    "        x = tf.placeholder(tf.float32, [None, 2])\n",
    "        y = tf.placeholder(tf.float32, [None, 1])\n",
    "    \n",
    "    with tf.name_scope('model'):\n",
    "        W1 = tf.Variable(tf.random_normal([2, 2], -1, 1))\n",
    "        b1 = tf.Variable(tf.random_uniform([2]))\n",
    "        W2 = tf.Variable(tf.random_normal([2, 1], -1, 1))\n",
    "        b2 = tf.Variable(tf.random_uniform([1]))\n",
    "        \n",
    "        z1 = tf.nn.tanh((x @ W1) + b1)\n",
    "        z2 = tf.nn.sigmoid((z1 @ W2) + b2)\n",
    "        p = z2\n",
    "    \n",
    "    with tf.name_scope('loss'):\n",
    "        loss = -tf.reduce_mean(y * tf.log(p) + (1 - y) * tf.log(1 - p))\n",
    "        \n",
    "    with tf.name_scope('optim'):\n",
    "        optim = tf.train.GradientDescentOptimizer(1e-2).minimize(loss)\n",
    "        \n",
    "    with tf.name_scope('acc'):\n",
    "        eq = tf.equal(tf.round(p), y)\n",
    "        acc = tf.reduce_mean(tf.cast(eq, tf.float32))\n",
    "        \n",
    "with tf.Session(graph=g) as sess:\n",
    "    sess.run(tf.global_variables_initializer())\n",
    "    \n",
    "    loss_history = []\n",
    "    acc_history = []\n",
    "    for i in tqdm(range(40000)):\n",
    "        l, a, _ = sess.run([loss, acc, optim], feed_dict={x:xor_data, y:xor_label})\n",
    "        if i % 1000 == 0:\n",
    "            loss_history.append(l)\n",
    "            acc_history.append(a)\n",
    "    \n",
    "    ns = ['W1', 'b1', 'W2', 'b2']\n",
    "    ws = sess.run([W1, b1, W2, b2], feed_dict={x:xor_data, y:xor_label})\n",
    "    np.set_printoptions(precision=1)\n",
    "    for n, w in zip(ns, ws):\n",
    "        print(n, ':')\n",
    "        print(w)\n",
    "        \n",
    "fig, ax = plt.subplots(dpi=100, figsize=(8, 4))\n",
    "ax.plot(np.arange(len(loss_history)), loss_history, '-', label='loss')\n",
    "ax.plot(np.arange(len(acc_history)), acc_history, '-', label='acc')\n",
    "ax.legend()\n",
    "plt.show()"
   ]
  },
  {
   "cell_type": "code",
   "execution_count": 5,
   "metadata": {},
   "outputs": [
    {
     "name": "stdout",
     "output_type": "stream",
     "text": [
      "WARNING:tensorflow:From <ipython-input-5-22f72304ae8e>:3: read_data_sets (from tensorflow.contrib.learn.python.learn.datasets.mnist) is deprecated and will be removed in a future version.\n",
      "Instructions for updating:\n",
      "Please use alternatives such as official/mnist/dataset.py from tensorflow/models.\n",
      "WARNING:tensorflow:From /home/amoshyc/miniconda3/envs/nthu-dl/lib/python3.6/site-packages/tensorflow/contrib/learn/python/learn/datasets/mnist.py:260: maybe_download (from tensorflow.contrib.learn.python.learn.datasets.base) is deprecated and will be removed in a future version.\n",
      "Instructions for updating:\n",
      "Please write your own downloading logic.\n",
      "WARNING:tensorflow:From /home/amoshyc/miniconda3/envs/nthu-dl/lib/python3.6/site-packages/tensorflow/contrib/learn/python/learn/datasets/mnist.py:262: extract_images (from tensorflow.contrib.learn.python.learn.datasets.mnist) is deprecated and will be removed in a future version.\n",
      "Instructions for updating:\n",
      "Please use tf.data to implement this functionality.\n",
      "Extracting data/mnist/train-images-idx3-ubyte.gz\n",
      "WARNING:tensorflow:From /home/amoshyc/miniconda3/envs/nthu-dl/lib/python3.6/site-packages/tensorflow/contrib/learn/python/learn/datasets/mnist.py:267: extract_labels (from tensorflow.contrib.learn.python.learn.datasets.mnist) is deprecated and will be removed in a future version.\n",
      "Instructions for updating:\n",
      "Please use tf.data to implement this functionality.\n",
      "Extracting data/mnist/train-labels-idx1-ubyte.gz\n",
      "WARNING:tensorflow:From /home/amoshyc/miniconda3/envs/nthu-dl/lib/python3.6/site-packages/tensorflow/contrib/learn/python/learn/datasets/mnist.py:110: dense_to_one_hot (from tensorflow.contrib.learn.python.learn.datasets.mnist) is deprecated and will be removed in a future version.\n",
      "Instructions for updating:\n",
      "Please use tf.one_hot on tensors.\n",
      "Extracting data/mnist/t10k-images-idx3-ubyte.gz\n",
      "Extracting data/mnist/t10k-labels-idx1-ubyte.gz\n",
      "WARNING:tensorflow:From /home/amoshyc/miniconda3/envs/nthu-dl/lib/python3.6/site-packages/tensorflow/contrib/learn/python/learn/datasets/mnist.py:290: DataSet.__init__ (from tensorflow.contrib.learn.python.learn.datasets.mnist) is deprecated and will be removed in a future version.\n",
      "Instructions for updating:\n",
      "Please use alternatives such as official/mnist/dataset.py from tensorflow/models.\n"
     ]
    }
   ],
   "source": [
    "from tensorflow.examples.tutorials.mnist import input_data\n",
    "from tensorflow.data import Dataset\n",
    "mnist = input_data.read_data_sets(\"data/mnist\", one_hot=True)\n",
    "n_train = mnist.train.images.shape[0]\n",
    "n_valid = mnist.validation.images.shape[0]\n",
    "n_test = mnist.test.images.shape[0]"
   ]
  },
  {
   "cell_type": "code",
   "execution_count": 6,
   "metadata": {},
   "outputs": [
    {
     "name": "stdout",
     "output_type": "stream",
     "text": [
      "{'epoch': 0, 'train_loss': '0.0347', 'train_acc': '0.8992', 'valid_loss': '0.0166', 'valid_acc': '0.9525'}\n",
      "{'epoch': 1, 'train_loss': '0.0150', 'train_acc': '0.9555', 'valid_loss': '0.0137', 'valid_acc': '0.9582'}\n",
      "{'epoch': 2, 'train_loss': '0.0103', 'train_acc': '0.9688', 'valid_loss': '0.0109', 'valid_acc': '0.9709'}\n",
      "{'epoch': 3, 'train_loss': '0.0084', 'train_acc': '0.9744', 'valid_loss': '0.0117', 'valid_acc': '0.9672'}\n",
      "{'epoch': 4, 'train_loss': '0.0071', 'train_acc': '0.9779', 'valid_loss': '0.0126', 'valid_acc': '0.9631'}\n",
      "{'epoch': 5, 'train_loss': '0.0064', 'train_acc': '0.9803', 'valid_loss': '0.0115', 'valid_acc': '0.9668'}\n",
      "{'epoch': 6, 'train_loss': '0.0057', 'train_acc': '0.9817', 'valid_loss': '0.0115', 'valid_acc': '0.9691'}\n",
      "{'epoch': 7, 'train_loss': '0.0054', 'train_acc': '0.9827', 'valid_loss': '0.0126', 'valid_acc': '0.9676'}\n",
      "{'epoch': 8, 'train_loss': '0.0053', 'train_acc': '0.9831', 'valid_loss': '0.0106', 'valid_acc': '0.9693'}\n",
      "{'epoch': 9, 'train_loss': '0.0051', 'train_acc': '0.9831', 'valid_loss': '0.0110', 'valid_acc': '0.9693'}\n",
      "Test Loss: 0.012269194\n",
      "Test Acc: 0.9651899\n"
     ]
    }
   ],
   "source": [
    "tf.reset_default_graph()\n",
    "\n",
    "def accuracy(p, y):\n",
    "    p = tf.argmax(p, 1)\n",
    "    y = tf.argmax(y, 1)\n",
    "    c = tf.equal(p, y)\n",
    "    return tf.reduce_mean(tf.cast(c, tf.float32))\n",
    "\n",
    "def cross_entropy(p, y):\n",
    "    return -tf.reduce_mean(tf.cast(y, tf.float32) * tf.log(p))\n",
    "\n",
    "\n",
    "class FC:\n",
    "    def __init__(self, inc, outc, name):\n",
    "        self.name = name\n",
    "        with tf.name_scope(name):\n",
    "            self.W = tf.Variable(tf.random_uniform([inc, outc], -1, 1))\n",
    "            self.b = tf.Variable(tf.random_uniform([outc], -1, 1))\n",
    "\n",
    "    def __call__(self, x):\n",
    "        return x @ self.W + self.b\n",
    "\n",
    "\n",
    "class MyModel:\n",
    "    def __init__(self):\n",
    "        self.fc1 = FC(28*28, 256, 'fc1')\n",
    "        self.fc2 = FC(256, 64, 'fc2')\n",
    "        self.fc3 = FC(64, 10, 'fc3')\n",
    "\n",
    "    def __call__(self, x):\n",
    "        z1 = tf.nn.sigmoid(self.fc1(x))\n",
    "        z2 = tf.nn.sigmoid(self.fc2(z1))\n",
    "        z3 = tf.nn.softmax(self.fc3(z2), 1)\n",
    "        return z3\n",
    "\n",
    "    \n",
    "with tf.Graph().as_default() as g:\n",
    "    train_set = Dataset.from_tensor_slices((mnist.train.images, mnist.train.labels))\n",
    "    train_set = train_set.batch(128)\n",
    "    train_iter = train_set.make_initializable_iterator()\n",
    "    train_img, train_lbl = train_iter.get_next()\n",
    "\n",
    "    valid_set = Dataset.from_tensor_slices((mnist.validation.images, mnist.validation.labels))\n",
    "    valid_set = valid_set.batch(128)\n",
    "    valid_iter = valid_set.make_initializable_iterator()\n",
    "    valid_img, valid_lbl = valid_iter.get_next()\n",
    "\n",
    "    test_set = Dataset.from_tensor_slices((mnist.test.images, mnist.test.labels))\n",
    "    test_set = test_set.batch(128)\n",
    "    test_iter = test_set.make_initializable_iterator()\n",
    "    test_img, test_lbl = test_iter.get_next()\n",
    "    \n",
    "    \n",
    "    x = tf.placeholder(tf.float32, [None, 784])\n",
    "    y = tf.placeholder(tf.float32, [None, 10])\n",
    "    \n",
    "    m = MyModel()\n",
    "    p = m(x)\n",
    "    \n",
    "    loss = cross_entropy(p, y)\n",
    "    acc = accuracy(p, y)\n",
    "    optim = tf.train.AdamOptimizer(1e-2).minimize(loss)\n",
    "    \n",
    "        \n",
    "with tf.Session(graph=g) as sess:\n",
    "    sess.run(tf.global_variables_initializer())\n",
    "\n",
    "    def train():\n",
    "        losses, accs = [], []\n",
    "        while True:\n",
    "            try:\n",
    "                img_, lbl_ = sess.run([train_img, train_lbl])\n",
    "                loss_, acc_, _ = sess.run([loss, acc, optim], feed_dict={x:img_, y:lbl_})\n",
    "                losses.append(loss_)\n",
    "                accs.append(acc_)\n",
    "            except tf.errors.OutOfRangeError:\n",
    "                break\n",
    "        avg_loss = np.mean(np.float32(losses))\n",
    "        avg_acc = np.mean(np.float32(accs))\n",
    "        return avg_loss, avg_acc\n",
    "    \n",
    "    def valid():\n",
    "        losses, accs = [], []\n",
    "        while True:\n",
    "            try:\n",
    "                img_, lbl_ = sess.run([valid_img, valid_lbl])\n",
    "                loss_, acc_ = sess.run([loss, acc], feed_dict={x:img_, y:lbl_})\n",
    "                losses.append(loss_)\n",
    "                accs.append(acc_)\n",
    "            except tf.errors.OutOfRangeError:\n",
    "                break\n",
    "        avg_loss = np.mean(np.float32(losses))\n",
    "        avg_acc = np.mean(np.float32(accs))\n",
    "        return avg_loss, avg_acc\n",
    "    \n",
    "    def test():\n",
    "        losses, accs = [], []\n",
    "        while True:\n",
    "            try:\n",
    "                img_, lbl_ = sess.run([test_img, test_lbl])\n",
    "                loss_, acc_ = sess.run([loss, acc], feed_dict={x:img_, y:lbl_})\n",
    "                losses.append(loss_)\n",
    "                accs.append(acc_)\n",
    "            except tf.errors.OutOfRangeError:\n",
    "                break\n",
    "        avg_loss = np.mean(np.float32(losses))\n",
    "        avg_acc = np.mean(np.float32(accs))\n",
    "        return avg_loss, avg_acc\n",
    "        \n",
    "\n",
    "    history = []\n",
    "    for epoch in range(10):\n",
    "        sess.run(train_iter.initializer)\n",
    "        sess.run(valid_iter.initializer)\n",
    "        \n",
    "        train_loss_, train_acc_ = train()\n",
    "        valid_loss_, valid_acc_ = valid()\n",
    "        history.append({\n",
    "            'epoch': epoch,\n",
    "            'train_loss': '{:.4f}'.format(train_loss_),\n",
    "            'train_acc': '{:.4f}'.format(train_acc_),\n",
    "            'valid_loss': '{:.4f}'.format(valid_loss_),\n",
    "            'valid_acc': '{:.4f}'.format(valid_acc_)\n",
    "        })\n",
    "        print(history[-1])\n",
    "    \n",
    "    sess.run(test_iter.initializer)\n",
    "    test_loss, test_acc = test()\n",
    "    print('Test Loss:', test_loss)\n",
    "    print('Test Acc:', test_acc)"
   ]
  },
  {
   "cell_type": "code",
   "execution_count": 7,
   "metadata": {},
   "outputs": [
    {
     "data": {
      "image/png": "[encoded data removed]",
      "text/plain": [
       "<Figure size 1100x300 with 2 Axes>"
      ]
     },
     "metadata": {
      "needs_background": "light"
     },
     "output_type": "display_data"
    }
   ],
   "source": [
    "fig, ax = plt.subplots(1, 2, dpi=100, figsize=(11, 3))\n",
    "xs = [item['epoch'] for item in history]\n",
    "for c in ['train_loss', 'valid_loss']:\n",
    "    ys = [float(item[c]) for item in history]\n",
    "    ax[0].plot(xs, ys, '-', label=c)\n",
    "ax[0].legend()\n",
    "for c in ['train_acc', 'valid_acc']:\n",
    "    ys = [float(item[c]) for item in history]\n",
    "    ax[1].plot(xs, ys, '-', label=c)\n",
    "ax[1].legend()\n",
    "plt.show()"
   ]
  },
  {
   "cell_type": "code",
   "execution_count": null,
   "metadata": {},
   "outputs": [],
   "source": []
  }
 ],
 "metadata": {
  "kernelspec": {
   "display_name": "Python 3",
   "language": "python",
   "name": "python3"
  },
  "language_info": {
   "codemirror_mode": {
    "name": "ipython",
    "version": 3
   },
   "file_extension": ".py",
   "mimetype": "text/x-python",
   "name": "python",
   "nbconvert_exporter": "python",
   "pygments_lexer": "ipython3",
   "version": "3.6.6"
  }
 },
 "nbformat": 4,
 "nbformat_minor": 2
}
