{
 "cells": [
  {
   "cell_type": "code",
   "execution_count": 2,
   "metadata": {},
   "outputs": [],
   "source": [
    "%matplotlib inline\n",
    "%config InlineBackend.figure_format = 'svg'\n",
    "import numpy as np\n",
    "import pandas as pd\n",
    "from tqdm import tqdm\n",
    "import matplotlib.pyplot as plt\n",
    "plt.style.use('seaborn')"
   ]
  },
  {
   "cell_type": "code",
   "execution_count": 61,
   "metadata": {},
   "outputs": [
    {
     "name": "stdout",
     "output_type": "stream",
     "text": [
      "[4.6175667786415375e-07, 3.305484858857643e-07, 2.3691816982199495e-07, 1.686538402088523e-07, 1.194190991984521e-07, 8.574614180393907e-08, 6.127896012904877e-08, 4.3583812656525643e-08, 3.110112272069053e-08, 2.227411162907789e-08]\n",
      "\n",
      "[3.27377676 4.23510884 3.47594833 4.55908043 5.63942627 4.1167708\n",
      " 4.6614786  1.81238954 5.34861495 4.17503194]\n",
      "[3.27374915 4.23499918 3.47589438 4.55900723 5.63921601 4.11678868\n",
      " 4.66129473 1.81258707 5.34838859 4.17504587]\n",
      "\n",
      "[[2.99948524]\n",
      " [3.99957281]]\n",
      "[0.00050392]\n"
     ]
    }
   ],
   "source": [
    "class AdaLineSGD:\n",
    "    def __init__(self, lr=1e-1, batch_size=32, n_epoch=500):\n",
    "        self.lr = lr\n",
    "        self.batch_size = batch_size\n",
    "        self.n_epoch = n_epoch\n",
    "        self.W = None\n",
    "        self.b = None\n",
    "    \n",
    "    def fit(self, xs, ys):\n",
    "        N, F = xs.shape\n",
    "        n_step = N // self.batch_size\n",
    "        self.W = np.random.normal(loc=0.0, scale=0.01, size=(F, 1))\n",
    "        self.b = np.random.normal(loc=0.0, scale=0.01, size=(1,))\n",
    "        \n",
    "        for ep in range(self.n_epoch):\n",
    "            indices = np.random.permutation(n_step * self.batch_size)\n",
    "            avg_loss = 0.0\n",
    "            for it in range(n_step):\n",
    "                s = it * self.batch_size\n",
    "                t = min(s + self.batch_size, N)\n",
    "                x_batch = xs[indices[s:t]]\n",
    "                y_batch = ys[indices[s:t]]\n",
    "                loss = self.partial_fit(x_batch, y_batch)\n",
    "                avg_loss = ((avg_loss * it) + loss) / (it + 1)\n",
    "            yield avg_loss\n",
    "            \n",
    "    def partial_fit(self, x_batch, y_batch):\n",
    "        B, F = x_batch.shape\n",
    "        y_batch = np.expand_dims(y_batch, axis=-1)\n",
    "        p_batch = self.forward(x_batch) # [B, 1]\n",
    "        l_batch = 0.5 * np.sum((y_batch - p_batch)**2, axis=1) # [B, 1]\n",
    "        loss = l_batch.mean() # float\n",
    "        \n",
    "        dL = np.ones((B, 1)) / B # [B, 1]\n",
    "        dP = dL * (p_batch - y_batch) # [B, 1]\n",
    "        dW = x_batch.T @ dP # [F, 1]\n",
    "        dB = dP # [B, 1]\n",
    "        db = dB.sum(axis=0) # [1]\n",
    "        \n",
    "        self.W = self.W - self.lr * dW\n",
    "        self.b = self.b - self.lr * db\n",
    "        return float(loss)\n",
    "    \n",
    "    def forward(self, x_batch):\n",
    "        return x_batch @ self.W + self.b\n",
    "    \n",
    "    def predict_proba(self, xs):\n",
    "        return self.forward(xs).squeeze(axis=1)\n",
    "    \n",
    "    def predict(self, xs):\n",
    "        prob = self.predict_proba(xs)\n",
    "        return np.where(prob < 0.5, 0, 1)\n",
    "\n",
    "    \n",
    "xs = np.random.rand(512, 2)\n",
    "ys = xs[:, 0] * 3 + xs[:, 1] * 4\n",
    "\n",
    "clf = AdaLineSGD(lr=1e-1, batch_size=16, n_epoch=50)\n",
    "losses = list(clf.fit(xs, ys))\n",
    "print(losses[-10:])\n",
    "print()\n",
    "\n",
    "ps = clf.predict_proba(xs)\n",
    "print(ys[:10])\n",
    "print(ps[:10])\n",
    "print()\n",
    "\n",
    "print(clf.W)\n",
    "print(clf.b)"
   ]
  },
  {
   "cell_type": "code",
   "execution_count": null,
   "metadata": {},
   "outputs": [],
   "source": []
  }
 ],
 "metadata": {
  "kernelspec": {
   "display_name": "Python 3",
   "language": "python",
   "name": "python3"
  },
  "language_info": {
   "codemirror_mode": {
    "name": "ipython",
    "version": 3
   },
   "file_extension": ".py",
   "mimetype": "text/x-python",
   "name": "python",
   "nbconvert_exporter": "python",
   "pygments_lexer": "ipython3",
   "version": "3.6.6"
  }
 },
 "nbformat": 4,
 "nbformat_minor": 2
}
